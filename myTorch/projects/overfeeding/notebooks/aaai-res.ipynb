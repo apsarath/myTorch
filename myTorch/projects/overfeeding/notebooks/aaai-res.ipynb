{
 "cells": [
  {
   "cell_type": "code",
   "execution_count": 2,
   "metadata": {},
   "outputs": [],
   "source": [
    "import requests\n",
    "from addict import Dict\n",
    "from collections import namedtuple\n",
    "import matplotlib.pyplot as plt\n",
    "import numpy as np"
   ]
  },
  {
   "cell_type": "code",
   "execution_count": 3,
   "metadata": {},
   "outputs": [],
   "source": [
    "Result = namedtuple('Result', ['wall_time','step','value'])\n",
    "base_url=\"http://bigboss:9849/data/plugin/scalars/scalars\""
   ]
  },
  {
   "cell_type": "code",
   "execution_count": 4,
   "metadata": {},
   "outputs": [],
   "source": [
    "task_names = (\"cpu/copy\", \"associative_recall\", \"ssmnist/gpu\")\n",
    "model_names = (\"128\", \"128_gem\", \"128_gem_net2net_256\", \"128_net2net_256\", \"256\", \"256_gem\")\n",
    "metric_names = (\"eval_average_accuracy_model_for_curriculum_idx\", \"train_running_average_accuracy_model_idx_\")\n",
    "levels = tuple(map(str, range(1, 21)))\n",
    "current_task_metric = \"train_running_average_accuracy_model_idx_\"\n",
    "tranfer_metric_name = \"eval_average_accuracy_model_for_curriculum_idx\"\n",
    "# tranfer_metric_name = \"eval_average_elementwise_accuracy_model_for_curriculum_idx\"\n",
    "model_to_name_dict = {}\n",
    "# model_to_name_dict[\"128\"] = \"128\"\n",
    "model_to_name_dict[\"256\"] = \"large\"\n",
    "model_to_name_dict[\"128_gem_net2net_256\"] = \"small+gem+net2net\"\n",
    "model_to_name_dict[\"256_gem\"] = \"large+gem\"\n",
    "model_to_name_dict[\"128_net2net_256\"] = \"small+net2net\"\n",
    "model_to_name_dict[\"128_gem_net2net\"] = \"small+gem+net2net\"\n",
    "model_to_name_dict[\"128_net2net\"] = \"small+net2net\"\n",
    "# break_index = {\n",
    "#     \"copy\": {\"128_net2net_256\": 11,\n",
    "#              \"128_net2net_256\": 11,\n",
    "#             \"128_gem_net2net\": }\n",
    "# }"
   ]
  },
  {
   "cell_type": "code",
   "execution_count": 5,
   "metadata": {},
   "outputs": [],
   "source": [
    "task = \"cpu/copy\"\n",
    "model = \"256_gem\"\n",
    "model_names = (\"128_gem_net2net_256\", \"128_net2net_256\", \"256\", \"256_gem\")\n",
    "# model_names = (\"128_gem_net2net\", \"128_net2net\", \"256\", \"256_gem\")\n",
    "metric = current_task_metric\n",
    "level = 0\n",
    "color_map = {\n",
    "    '128_gem_net2net_256': 'tab:blue',\n",
    "    '128_gem_net2net': 'tab:blue',\n",
    "    '128_net2net_256': 'tab:orange',\n",
    "    '128_net2net': 'tab:orange',\n",
    "    '256': 'tab:green',\n",
    "    '256_gem': 'tab:red',\n",
    "    '128': 'tab:purple', \n",
    "    '128_gem': 'tab:brown'\n",
    "}"
   ]
  },
  {
   "cell_type": "code",
   "execution_count": 6,
   "metadata": {},
   "outputs": [],
   "source": [
    "def get_result_for_model(task, model, metric, level):\n",
    "    params = Dict()\n",
    "    params.run = \"{}/{}\".format(task, model)\n",
    "    params.tag = \"{}{}\".format(metric, level)\n",
    "    r = requests.get(base_url, params)\n",
    "    if(r.status_code!=200):\n",
    "        print(r.url)\n",
    "#         print(\"Error\")\n",
    "        return None\n",
    "    result = list(map(lambda x: Result(*x), r.json()))\n",
    "    return result"
   ]
  },
  {
   "cell_type": "code",
   "execution_count": 7,
   "metadata": {},
   "outputs": [],
   "source": [
    "def get_current_task_accuracy(task, model, level):\n",
    "    result = get_result_for_model(task, model, metric=current_task_metric, level=level)\n",
    "    if result:\n",
    "        return result[-1]\n",
    "    else:\n",
    "        None"
   ]
  },
  {
   "cell_type": "code",
   "execution_count": 8,
   "metadata": {},
   "outputs": [],
   "source": [
    "def get_current_performance_for_all_models_all_levels(task):\n",
    "    current_task_performance = {}\n",
    "    for m in model_names:\n",
    "        current_task_performance[m] = {}\n",
    "        for l in levels:\n",
    "            res = get_current_task_accuracy(task, m, l)\n",
    "            if res:\n",
    "                current_task_performance[m][l] = res\n",
    "            else:\n",
    "                break\n",
    "    return current_task_performance\n"
   ]
  },
  {
   "cell_type": "code",
   "execution_count": 9,
   "metadata": {},
   "outputs": [
    {
     "name": "stdout",
     "output_type": "stream",
     "text": [
      "http://bigboss:9849/data/plugin/scalars/scalars?run=cpu%2Fssmnist%2F128_gem_net2net_256&tag=train_running_average_accuracy_model_idx_1\n",
      "http://bigboss:9849/data/plugin/scalars/scalars?run=cpu%2Fssmnist%2F128_net2net_256&tag=train_running_average_accuracy_model_idx_1\n",
      "http://bigboss:9849/data/plugin/scalars/scalars?run=cpu%2Fssmnist%2F256&tag=train_running_average_accuracy_model_idx_13\n",
      "http://bigboss:9849/data/plugin/scalars/scalars?run=cpu%2Fssmnist%2F256_gem&tag=train_running_average_accuracy_model_idx_5\n"
     ]
    },
    {
     "data": {
      "image/png": "[encoded data removed]",
      "text/plain": [
       "<Figure size 432x288 with 1 Axes>"
      ]
     },
     "metadata": {},
     "output_type": "display_data"
    },
    {
     "data": {
      "text/plain": [
       "<Figure size 432x288 with 0 Axes>"
      ]
     },
     "metadata": {},
     "output_type": "display_data"
    }
   ],
   "source": [
    "# def generate_current_accuracy_plots(task):\n",
    "#     current_task_performance = get_current_performance_for_all_models_all_levels(task)\n",
    "#     for m in model_names:\n",
    "#         y = list(map(lambda key_value: key_value[1].value, current_task_performance[m].items()))\n",
    "#         x = list(range(1, len(y)+1))\n",
    "#         plt.plot(x, y, label=m, color=color_map[m])\n",
    "#         plt.xlabel(\"Number of levels\")\n",
    "#         plt.ylabel(\"Accuracy on the current task\")\n",
    "    \n",
    "#     plt.legend(loc='center left', bbox_to_anchor=(1, 0))\n",
    "#     file_name = \"{}_{}\".format(task, \"current_accuracy\")\n",
    "#     plt.tight_layout()\n",
    "# #     plt.savefig(file_name)\n",
    "#     plt.show()\n",
    "#     plt.clf()\n",
    "\n",
    "\n",
    "def generate_current_accuracy_plots(task):\n",
    "    \n",
    "    current_task_performance = get_current_performance_for_all_models_all_levels(task)\n",
    "#     for m in [\"128\", \"128_gem\"]:\n",
    "#         if(not current_task_performance[m]):\n",
    "#             new_key = m+\"_net2net\"\n",
    "#             data_to_search_index_from = list(map(lambda x: x.step, current_task_performance[new_key].values()))\n",
    "#             print(data_to_search_index_from)\n",
    "#             index = [_index for _index in enumerate(data_to_search_index_from) if data_to_search_index_from[_index] > 30000  ]\n",
    "#             print(index)\n",
    "#             current_task_performance\n",
    "    \n",
    "    for m in model_names:\n",
    "        y = list(map(lambda key_value: key_value[1].value, current_task_performance[m].items()))\n",
    "        x = list(range(1, len(y)+1))\n",
    "        plt.plot(x, y, label=m, color=color_map[m])\n",
    "        plt.xlabel(\"Number of levels\")\n",
    "        plt.ylabel(\"Accuracy on the current task\")\n",
    "    \n",
    "    plt.legend(loc='center left', bbox_to_anchor=(0.55, 0.4))\n",
    "#     plt.legend(loc='center left')\n",
    "    file_name = \"{}_{}\".format(task, \"current_accuracy\")\n",
    "    plt.tight_layout()\n",
    "    plt.savefig(\"ssmnist_current_acc\")\n",
    "    plt.show()\n",
    "    plt.clf()\n",
    "\n",
    "generate_current_accuracy_plots(\"cpu/ssmnist\")"
   ]
  },
  {
   "cell_type": "code",
   "execution_count": 10,
   "metadata": {},
   "outputs": [
    {
     "name": "stdout",
     "output_type": "stream",
     "text": [
      "http://bigboss:9849/data/plugin/scalars/scalars?run=cpu%2Fssmnist%2F128_gem_net2net_256&tag=train_running_average_accuracy_model_idx_1\n",
      "http://bigboss:9849/data/plugin/scalars/scalars?run=cpu%2Fssmnist%2F128_net2net_256&tag=train_running_average_accuracy_model_idx_1\n",
      "http://bigboss:9849/data/plugin/scalars/scalars?run=cpu%2Fssmnist%2F256&tag=train_running_average_accuracy_model_idx_13\n",
      "http://bigboss:9849/data/plugin/scalars/scalars?run=cpu%2Fssmnist%2F256_gem&tag=train_running_average_accuracy_model_idx_5\n"
     ]
    }
   ],
   "source": [
    "current_task_performance = get_current_performance_for_all_models_all_levels(task=\"cpu/ssmnist\")"
   ]
  },
  {
   "cell_type": "code",
   "execution_count": 11,
   "metadata": {},
   "outputs": [
    {
     "data": {
      "text/plain": [
       "{'128_gem_net2net_256': {},\n",
       " '128_net2net_256': {},\n",
       " '256': {'1': Result(wall_time=1535936017.543133, step=9991, value=0.8671860098838806),\n",
       "  '2': Result(wall_time=1535941820.261984, step=9991, value=0.8808364272117615),\n",
       "  '3': Result(wall_time=1535948092.3536637, step=9991, value=0.8812102675437927),\n",
       "  '4': Result(wall_time=1535955009.9870167, step=9991, value=0.8932003378868103),\n",
       "  '5': Result(wall_time=1535963018.677508, step=9991, value=0.9051353335380554),\n",
       "  '6': Result(wall_time=1535972658.2682214, step=9991, value=0.9097015261650085),\n",
       "  '7': Result(wall_time=1535983255.532326, step=9991, value=0.9030433893203735),\n",
       "  '8': Result(wall_time=1535994601.1864934, step=9991, value=0.8989726305007935),\n",
       "  '9': Result(wall_time=1536006585.0203483, step=9991, value=0.884975016117096),\n",
       "  '10': Result(wall_time=1536019437.2930171, step=9991, value=0.8385957479476929),\n",
       "  '11': Result(wall_time=1536033344.998653, step=9991, value=0.7736378908157349),\n",
       "  '12': Result(wall_time=1536048312.3819826, step=9991, value=0.6952727437019348)},\n",
       " '256_gem': {'1': Result(wall_time=1535938228.3572223, step=9991, value=0.863312304019928),\n",
       "  '2': Result(wall_time=1535948886.9590237, step=9991, value=0.8651323318481445),\n",
       "  '3': Result(wall_time=1535964113.2236493, step=9991, value=0.8468918204307556),\n",
       "  '4': Result(wall_time=1535983424.9318562, step=9991, value=0.7913559675216675)}}"
      ]
     },
     "execution_count": 11,
     "metadata": {},
     "output_type": "execute_result"
    }
   ],
   "source": [
    "current_task_performance"
   ]
  },
  {
   "cell_type": "code",
   "execution_count": 12,
   "metadata": {},
   "outputs": [
    {
     "name": "stdout",
     "output_type": "stream",
     "text": [
      "http://bigboss:9849/data/plugin/scalars/scalars?run=cpu%2Fcopy%2F128_gem_net2net_256&tag=train_running_average_accuracy_model_idx_11\n",
      "http://bigboss:9849/data/plugin/scalars/scalars?run=cpu%2Fcopy%2F128_net2net_256&tag=train_running_average_accuracy_model_idx_14\n",
      "http://bigboss:9849/data/plugin/scalars/scalars?run=cpu%2Fcopy%2F256&tag=train_running_average_accuracy_model_idx_13\n",
      "http://bigboss:9849/data/plugin/scalars/scalars?run=cpu%2Fcopy%2F256_gem&tag=train_running_average_accuracy_model_idx_10\n"
     ]
    },
    {
     "data": {
      "image/png": "[encoded data removed]",
      "text/plain": [
       "<Figure size 432x288 with 1 Axes>"
      ]
     },
     "metadata": {},
     "output_type": "display_data"
    },
    {
     "data": {
      "text/plain": [
       "<Figure size 432x288 with 0 Axes>"
      ]
     },
     "metadata": {},
     "output_type": "display_data"
    }
   ],
   "source": [
    "# for task in task_names:\n",
    "# #     task = \"copy\"?\n",
    "#     generate_current_accuracy_plots(task)\n",
    "generate_current_accuracy_plots(task=\"cpu/copy\")"
   ]
  },
  {
   "cell_type": "code",
   "execution_count": 13,
   "metadata": {},
   "outputs": [],
   "source": [
    "# task = \"associative_recall\"\n",
    "\n",
    "# generate_current_accuracy_plots(task)"
   ]
  },
  {
   "cell_type": "code",
   "execution_count": 14,
   "metadata": {},
   "outputs": [],
   "source": [
    "def get_previous_task_accuracy(task, model, level):\n",
    "    result = get_result_for_model(task, model, metric=current_task_metric, level=level)\n",
    "    if result:\n",
    "        return result\n",
    "    else:\n",
    "        None"
   ]
  },
  {
   "cell_type": "code",
   "execution_count": 15,
   "metadata": {},
   "outputs": [
    {
     "name": "stdout",
     "output_type": "stream",
     "text": [
      "http://bigboss:9849/data/plugin/scalars/scalars?run=cpu%2Fcopy%2F128_gem_net2net_256&tag=train_running_average_accuracy_model_idx_11\n",
      "http://bigboss:9849/data/plugin/scalars/scalars?run=cpu%2Fcopy%2F128_net2net_256&tag=train_running_average_accuracy_model_idx_14\n",
      "http://bigboss:9849/data/plugin/scalars/scalars?run=cpu%2Fcopy%2F256&tag=train_running_average_accuracy_model_idx_13\n",
      "http://bigboss:9849/data/plugin/scalars/scalars?run=cpu%2Fcopy%2F256_gem&tag=train_running_average_accuracy_model_idx_10\n"
     ]
    }
   ],
   "source": [
    "current_task_performance = get_current_performance_for_all_models_all_levels(task)"
   ]
  },
  {
   "cell_type": "code",
   "execution_count": 16,
   "metadata": {},
   "outputs": [],
   "source": [
    "# current_task_performance[\"128\"]"
   ]
  },
  {
   "cell_type": "code",
   "execution_count": 17,
   "metadata": {},
   "outputs": [],
   "source": [
    "def get_previous_task_accuracy(task, model, level):\n",
    "    result = get_result_for_model(task, model, metric=tranfer_metric_name, level=level)\n",
    "    if result:\n",
    "        return result[0:level]\n",
    "    else:\n",
    "        None"
   ]
  },
  {
   "cell_type": "code",
   "execution_count": 18,
   "metadata": {},
   "outputs": [],
   "source": [
    "def get_previous_performance_for_all_models_all_levels(task):\n",
    "    previous_task_performance = {}\n",
    "    for m in model_names:\n",
    "        previous_task_performance[m] = {}\n",
    "        for l in levels:\n",
    "            res = get_previous_task_accuracy(task, m, int(l))\n",
    "            if res:\n",
    "                average_res = np.mean(np.asarray(list(map(lambda x: x.value, res))))\n",
    "                previous_task_performance[m][l] = average_res\n",
    "            else:\n",
    "                break\n",
    "    return previous_task_performance\n"
   ]
  },
  {
   "cell_type": "code",
   "execution_count": 19,
   "metadata": {},
   "outputs": [],
   "source": [
    "# def generate_previous_accuracy_plots(task):\n",
    "#     previous_task_performance = get_previous_performance_for_all_models_all_levels(task)\n",
    "#     for m in model_names:\n",
    "#         if(previous_task_performance[m]):\n",
    "#             y = list(map(lambda key_value: key_value[1], previous_task_performance[m].items()))\n",
    "#             x = list(range(1, len(y)+1))\n",
    "#             plt.xlim(0, 15)\n",
    "#             plt.ylim(0, 1)\n",
    "#             plt.bar(x, y, label=m)\n",
    "#             plt.xlabel(\"Number of levels\")\n",
    "#             plt.ylabel(\"Average accuracy on the previous tasks\")\n",
    "#             plt.legend(loc='center left', bbox_to_anchor=(1, 0))\n",
    "# #             plt.show()\n",
    "#             file_name = \"{}_{}_{}\".format(m, task, \"previous_accuracy\")\n",
    "#             plt.tight_layout()\n",
    "#             plt.savefig(file_name)\n",
    "#             plt.clf()"
   ]
  },
  {
   "cell_type": "code",
   "execution_count": 20,
   "metadata": {},
   "outputs": [
    {
     "name": "stdout",
     "output_type": "stream",
     "text": [
      "http://bigboss:9849/data/plugin/scalars/scalars?run=cpu%2Fcopy%2F128_gem_net2net_256&tag=eval_average_accuracy_model_for_curriculum_idx11\n",
      "http://bigboss:9849/data/plugin/scalars/scalars?run=cpu%2Fcopy%2F128_net2net_256&tag=eval_average_accuracy_model_for_curriculum_idx14\n",
      "http://bigboss:9849/data/plugin/scalars/scalars?run=cpu%2Fcopy%2F256&tag=eval_average_accuracy_model_for_curriculum_idx13\n",
      "http://bigboss:9849/data/plugin/scalars/scalars?run=cpu%2Fcopy%2F256_gem&tag=eval_average_accuracy_model_for_curriculum_idx10\n"
     ]
    }
   ],
   "source": [
    "previous_task_performance = get_previous_performance_for_all_models_all_levels(task=\"cpu/copy\")"
   ]
  },
  {
   "cell_type": "code",
   "execution_count": 21,
   "metadata": {},
   "outputs": [
    {
     "data": {
      "text/plain": [
       "{'128_gem_net2net_256': {'1': 0.8647083044052124,\n",
       "  '2': 0.8781076371669769,\n",
       "  '3': 0.8794653018315634,\n",
       "  '4': 0.8641739636659622,\n",
       "  '5': 0.8495672225952149,\n",
       "  '6': 0.8124716281890869,\n",
       "  '7': 0.7991822702544076,\n",
       "  '8': 0.7926108911633492,\n",
       "  '9': 0.7848359677526686,\n",
       "  '10': 0.772234457731247},\n",
       " '128_net2net_256': {'1': 0.5948333144187927,\n",
       "  '2': 0.5859479308128357,\n",
       "  '3': 0.5688113371531168,\n",
       "  '4': 0.5547953248023987,\n",
       "  '5': 0.561234450340271,\n",
       "  '6': 0.5695293545722961,\n",
       "  '7': 0.5705362813813346,\n",
       "  '8': 0.5761896818876266,\n",
       "  '9': 0.5845756332079569,\n",
       "  '10': 0.5976998388767243,\n",
       "  '11': 0.5926923264156688,\n",
       "  '12': 0.5831430181860924,\n",
       "  '13': 0.6205941301125747},\n",
       " '256': {'1': 0.5817916393280029,\n",
       "  '2': 0.5349236130714417,\n",
       "  '3': 0.5283147990703583,\n",
       "  '4': 0.5237626656889915,\n",
       "  '5': 0.5207601547241211,\n",
       "  '6': 0.5141214976708094,\n",
       "  '7': 0.5469782395022256,\n",
       "  '8': 0.5545686855912209,\n",
       "  '9': 0.5516620841291215,\n",
       "  '10': 0.5693736732006073,\n",
       "  '11': 0.5640079189430584,\n",
       "  '12': 0.5649736945827802},\n",
       " '256_gem': {'1': 0.8848749995231628,\n",
       "  '2': 0.9238437414169312,\n",
       "  '3': 0.9530566930770874,\n",
       "  '4': 0.9441883713006973,\n",
       "  '5': 0.9224508285522461,\n",
       "  '6': 0.9063342014948527,\n",
       "  '7': 0.8955732754298619,\n",
       "  '8': 0.878827728331089,\n",
       "  '9': 0.860147602028317}}"
      ]
     },
     "execution_count": 21,
     "metadata": {},
     "output_type": "execute_result"
    }
   ],
   "source": [
    "previous_task_performance"
   ]
  },
  {
   "cell_type": "code",
   "execution_count": 22,
   "metadata": {},
   "outputs": [
    {
     "name": "stdout",
     "output_type": "stream",
     "text": [
      "http://bigboss:9849/data/plugin/scalars/scalars?run=cpu%2Fcopy%2F128_gem_net2net_256&tag=eval_average_accuracy_model_for_curriculum_idx11\n",
      "http://bigboss:9849/data/plugin/scalars/scalars?run=cpu%2Fcopy%2F128_net2net_256&tag=eval_average_accuracy_model_for_curriculum_idx14\n",
      "http://bigboss:9849/data/plugin/scalars/scalars?run=cpu%2Fcopy%2F256&tag=eval_average_accuracy_model_for_curriculum_idx13\n",
      "http://bigboss:9849/data/plugin/scalars/scalars?run=cpu%2Fcopy%2F256_gem&tag=eval_average_accuracy_model_for_curriculum_idx10\n",
      "sum_256_gem_cpu_copy_previous_accuracy\n"
     ]
    },
    {
     "data": {
      "image/png": "[encoded data removed]",
      "text/plain": [
       "<Figure size 432x288 with 1 Axes>"
      ]
     },
     "metadata": {},
     "output_type": "display_data"
    }
   ],
   "source": [
    "def generate_previous_accuracy_plots(task):\n",
    "    previous_task_performance = get_previous_performance_for_all_models_all_levels(task)\n",
    "    y = []\n",
    "    x = []\n",
    "    fig, ax = plt.subplots(1, 1)\n",
    "    curr_ax = ax\n",
    "    use_mean = False\n",
    "    \n",
    "    for m in model_names:\n",
    "        \n",
    "        if(previous_task_performance[m]):\n",
    "            if(use_mean):\n",
    "                f = np.mean\n",
    "            else:\n",
    "                f = np.sum\n",
    "            y.append(f(np.asarray(list(map(lambda key_value: key_value[1], previous_task_performance[m].items())))))\n",
    "            x.append(m)\n",
    "    if(use_mean):\n",
    "        plt.ylim(0, 1)\n",
    "    else:\n",
    "        plt.ylim(0, 15)\n",
    "        \n",
    "    for idx, (_x, _y) in enumerate(zip(x, y)):\n",
    "        curr_ax.bar(idx, _y, label=_x, align=\"center\", color = color_map[_x])\n",
    "    \n",
    "    plt.legend(loc='lower right', bbox_to_anchor=(0.65, 0.55))\n",
    "    file_name = \"sum_{}_{}_{}\".format(m, \"_\".join(task.split(\"/\")), \"previous_accuracy\")\n",
    "    plt.tick_params(\n",
    "        axis='x',          # changes apply to the x-axis\n",
    "        which='both',      # both major and minor ticks are affected\n",
    "        bottom=False,      # ticks along the bottom edge are off\n",
    "        top=False,         # ticks along the top edge are off\n",
    "        labelbottom=False\n",
    "    )\n",
    "    plt.ylim(0.0, 10)\n",
    "    \n",
    "    plt.yticks(np.arange(0.0, 10.0, 0.5))\n",
    "    plt.xlabel(\"Models\")\n",
    "    plt.ylabel(\"Accuracy on the previous tasks\")\n",
    "    plt.tight_layout()\n",
    "    \n",
    "    print(file_name)\n",
    "    plt.savefig(\"prev_copy_alt\")\n",
    "#     plt.clf()\n",
    "generate_previous_accuracy_plots(task=\"cpu/copy\")"
   ]
  },
  {
   "cell_type": "code",
   "execution_count": 23,
   "metadata": {
    "scrolled": true
   },
   "outputs": [],
   "source": [
    "# for task in task_names:\n",
    "#     generate_previous_accuracy_plots(task)\n",
    "# generate_previous_accuracy_plots(task)"
   ]
  },
  {
   "cell_type": "code",
   "execution_count": 24,
   "metadata": {},
   "outputs": [],
   "source": [
    "# previous_task_performance = get_previous_performance_for_all_models_all_levels(task=\"c\")"
   ]
  },
  {
   "cell_type": "code",
   "execution_count": 25,
   "metadata": {},
   "outputs": [
    {
     "data": {
      "text/plain": [
       "{'128_gem_net2net_256': {'1': 0.8647083044052124,\n",
       "  '2': 0.8781076371669769,\n",
       "  '3': 0.8794653018315634,\n",
       "  '4': 0.8641739636659622,\n",
       "  '5': 0.8495672225952149,\n",
       "  '6': 0.8124716281890869,\n",
       "  '7': 0.7991822702544076,\n",
       "  '8': 0.7926108911633492,\n",
       "  '9': 0.7848359677526686,\n",
       "  '10': 0.772234457731247},\n",
       " '128_net2net_256': {'1': 0.5948333144187927,\n",
       "  '2': 0.5859479308128357,\n",
       "  '3': 0.5688113371531168,\n",
       "  '4': 0.5547953248023987,\n",
       "  '5': 0.561234450340271,\n",
       "  '6': 0.5695293545722961,\n",
       "  '7': 0.5705362813813346,\n",
       "  '8': 0.5761896818876266,\n",
       "  '9': 0.5845756332079569,\n",
       "  '10': 0.5976998388767243,\n",
       "  '11': 0.5926923264156688,\n",
       "  '12': 0.5831430181860924,\n",
       "  '13': 0.6205941301125747},\n",
       " '256': {'1': 0.5817916393280029,\n",
       "  '2': 0.5349236130714417,\n",
       "  '3': 0.5283147990703583,\n",
       "  '4': 0.5237626656889915,\n",
       "  '5': 0.5207601547241211,\n",
       "  '6': 0.5141214976708094,\n",
       "  '7': 0.5469782395022256,\n",
       "  '8': 0.5545686855912209,\n",
       "  '9': 0.5516620841291215,\n",
       "  '10': 0.5693736732006073,\n",
       "  '11': 0.5640079189430584,\n",
       "  '12': 0.5649736945827802},\n",
       " '256_gem': {'1': 0.8848749995231628,\n",
       "  '2': 0.9238437414169312,\n",
       "  '3': 0.9530566930770874,\n",
       "  '4': 0.9441883713006973,\n",
       "  '5': 0.9224508285522461,\n",
       "  '6': 0.9063342014948527,\n",
       "  '7': 0.8955732754298619,\n",
       "  '8': 0.878827728331089,\n",
       "  '9': 0.860147602028317}}"
      ]
     },
     "execution_count": 25,
     "metadata": {},
     "output_type": "execute_result"
    }
   ],
   "source": [
    "previous_task_performance"
   ]
  },
  {
   "cell_type": "code",
   "execution_count": 26,
   "metadata": {},
   "outputs": [],
   "source": [
    "# generate_previous_accuracy_plots(task=\"associative_recall\")"
   ]
  },
  {
   "cell_type": "code",
   "execution_count": 27,
   "metadata": {},
   "outputs": [],
   "source": [
    "def get_future_task_accuracy(task, model, level):\n",
    "    result = get_result_for_model(task, model, metric=tranfer_metric_name, level=level)\n",
    "    if result:\n",
    "        return result[level+1:20]\n",
    "    else:\n",
    "        None"
   ]
  },
  {
   "cell_type": "code",
   "execution_count": 28,
   "metadata": {},
   "outputs": [],
   "source": [
    "def get_future_performance_for_all_models_all_levels(task):\n",
    "    future_task_performance = {}\n",
    "    for m in model_names:\n",
    "        future_task_performance[m] = {}\n",
    "        for l in levels:\n",
    "            res = get_future_task_accuracy(task, m, int(l))\n",
    "            if res:\n",
    "                average_res = np.mean(np.asarray(list(map(lambda x: x.value, res))))\n",
    "                future_task_performance[m][l] = average_res\n",
    "            else:\n",
    "                break\n",
    "    return future_task_performance\n"
   ]
  },
  {
   "cell_type": "code",
   "execution_count": 29,
   "metadata": {},
   "outputs": [
    {
     "name": "stdout",
     "output_type": "stream",
     "text": [
      "http://bigboss:9849/data/plugin/scalars/scalars?run=cpu%2Fssmnist%2F128_gem_net2net_256&tag=eval_average_accuracy_model_for_curriculum_idx1\n",
      "http://bigboss:9849/data/plugin/scalars/scalars?run=cpu%2Fssmnist%2F128_net2net_256&tag=eval_average_accuracy_model_for_curriculum_idx1\n",
      "http://bigboss:9849/data/plugin/scalars/scalars?run=cpu%2Fssmnist%2F256&tag=eval_average_accuracy_model_for_curriculum_idx13\n",
      "http://bigboss:9849/data/plugin/scalars/scalars?run=cpu%2Fssmnist%2F256_gem&tag=eval_average_accuracy_model_for_curriculum_idx5\n",
      "sum_256_gem_cpu_ssmnist_previous_accuracy\n",
      "[0.0, 0.0]\n"
     ]
    },
    {
     "data": {
      "image/png": "[encoded data removed]",
      "text/plain": [
       "<Figure size 432x288 with 1 Axes>"
      ]
     },
     "metadata": {},
     "output_type": "display_data"
    }
   ],
   "source": [
    "def generate_future_accuracy_plots(task):\n",
    "    future_task_performance = get_future_performance_for_all_models_all_levels(task)\n",
    "    y = []\n",
    "    x = []\n",
    "    fig, ax = plt.subplots(1, 1)\n",
    "    curr_ax = ax\n",
    "    use_mean = True\n",
    "    \n",
    "#     model_names = (\"128_net2net_256\", \"256\", \"128_gem_net2net_256\", \"256_gem\")\n",
    "    \n",
    "    for m in model_names:\n",
    "        \n",
    "        if(future_task_performance[m]):\n",
    "            if(use_mean):\n",
    "                f = np.mean\n",
    "            else:\n",
    "                f = np.sum\n",
    "            y.append(f(np.asarray(list(map(lambda key_value: key_value[1], future_task_performance[m].items())))))\n",
    "            x.append(m)\n",
    "    if(use_mean):\n",
    "        plt.ylim(0.5, 0.7)\n",
    "    else:\n",
    "        plt.ylim(0, 15)\n",
    "        \n",
    "    for idx, (_x, _y) in enumerate(zip(x, y)):\n",
    "        curr_ax.bar(idx, _y, label=_x, align=\"center\", color = color_map[_x])\n",
    "    \n",
    "    plt.legend(loc='lower right', bbox_to_anchor=(0.45, 0.55))\n",
    "    file_name = \"sum_{}_{}_{}\".format(m, \"_\".join(task.split(\"/\")), \"previous_accuracy\")\n",
    "    plt.tick_params(\n",
    "        axis='x',          # changes apply to the x-axis\n",
    "        which='both',      # both major and minor ticks are affected\n",
    "        bottom=False,      # ticks along the bottom edge are off\n",
    "        top=False,         # ticks along the top edge are off\n",
    "        labelbottom=False\n",
    "    )\n",
    "    plt.ylim(0.0, 0.5)\n",
    "    \n",
    "    plt.yticks(np.arange(0.0, 0.5, 0.05))\n",
    "    plt.xlabel(\"Models\")\n",
    "    plt.ylabel(\"Accuracy on the future tasks\")\n",
    "    plt.tight_layout()\n",
    "    \n",
    "    print(file_name)\n",
    "    plt.savefig(\"next_ssmnist_alt\")\n",
    "    print(y)\n",
    "#     plt.clf()\n",
    "generate_future_accuracy_plots(task=\"cpu/ssmnist\")"
   ]
  },
  {
   "cell_type": "code",
   "execution_count": 30,
   "metadata": {
    "scrolled": false
   },
   "outputs": [
    {
     "name": "stdout",
     "output_type": "stream",
     "text": [
      "http://bigboss:9849/data/plugin/scalars/scalars?run=cpu%2Fcopy%2F128_gem_net2net_256&tag=eval_average_accuracy_model_for_curriculum_idx11\n",
      "http://bigboss:9849/data/plugin/scalars/scalars?run=cpu%2Fcopy%2F128_net2net_256&tag=eval_average_accuracy_model_for_curriculum_idx14\n",
      "http://bigboss:9849/data/plugin/scalars/scalars?run=cpu%2Fcopy%2F256&tag=eval_average_accuracy_model_for_curriculum_idx13\n",
      "http://bigboss:9849/data/plugin/scalars/scalars?run=cpu%2Fcopy%2F256_gem&tag=eval_average_accuracy_model_for_curriculum_idx10\n"
     ]
    }
   ],
   "source": [
    "future_task_performance = get_future_performance_for_all_models_all_levels(task)"
   ]
  },
  {
   "cell_type": "code",
   "execution_count": 31,
   "metadata": {},
   "outputs": [
    {
     "data": {
      "text/plain": [
       "{'128_gem_net2net_256': {'1': 0.532785263326433,\n",
       "  '2': 0.5475716643473681,\n",
       "  '3': 0.5708463042974472,\n",
       "  '4': 0.5947526017824809,\n",
       "  '5': 0.616467182125364,\n",
       "  '6': 0.641972922361814,\n",
       "  '7': 0.6497636983791987,\n",
       "  '8': 0.6506746898997914,\n",
       "  '9': 0.6576688885688782,\n",
       "  '10': 0.6579691304100884},\n",
       " '128_net2net_256': {'1': 0.4827217956384023,\n",
       "  '2': 0.47185954100945415,\n",
       "  '3': 0.5092509761452675,\n",
       "  '4': 0.5150531649589538,\n",
       "  '5': 0.5270644341196332,\n",
       "  '6': 0.5541867407468649,\n",
       "  '7': 0.5702552869915962,\n",
       "  '8': 0.5862613049420443,\n",
       "  '9': 0.5982209980487824,\n",
       "  '10': 0.6907972693443298,\n",
       "  '11': 0.6910824626684189,\n",
       "  '12': 0.6952852862221854,\n",
       "  '13': 0.6916169126828512},\n",
       " '256': {'1': 0.5326248639159732,\n",
       "  '2': 0.534528606078204,\n",
       "  '3': 0.5033656824380159,\n",
       "  '4': 0.5329161743323009,\n",
       "  '5': 0.530193247965404,\n",
       "  '6': 0.5319123795399299,\n",
       "  '7': 0.554539737602075,\n",
       "  '8': 0.5745035193183206,\n",
       "  '9': 0.6216485977172852,\n",
       "  '10': 0.6306756138801575,\n",
       "  '11': 0.6409363076090813,\n",
       "  '12': 0.6502572298049927},\n",
       " '256_gem': {'1': 0.5287537177403768,\n",
       "  '2': 0.4998280826736899,\n",
       "  '3': 0.5266923364251852,\n",
       "  '4': 0.5586516042550405,\n",
       "  '5': 0.6034910593714032,\n",
       "  '6': 0.6281666251329275,\n",
       "  '7': 0.6659158617258072,\n",
       "  '8': 0.6832129684361544,\n",
       "  '9': 0.6791213393211365}}"
      ]
     },
     "execution_count": 31,
     "metadata": {},
     "output_type": "execute_result"
    }
   ],
   "source": [
    "future_task_performance"
   ]
  },
  {
   "cell_type": "code",
   "execution_count": 32,
   "metadata": {},
   "outputs": [
    {
     "name": "stdout",
     "output_type": "stream",
     "text": [
      "http://bigboss:9849/data/plugin/scalars/scalars?run=cpu%2Fcopy%2F128_gem_net2net_256&tag=eval_average_accuracy_model_for_curriculum_idx11\n",
      "http://bigboss:9849/data/plugin/scalars/scalars?run=cpu%2Fcopy%2F128_net2net_256&tag=eval_average_accuracy_model_for_curriculum_idx14\n",
      "http://bigboss:9849/data/plugin/scalars/scalars?run=cpu%2Fcopy%2F256&tag=eval_average_accuracy_model_for_curriculum_idx13\n",
      "http://bigboss:9849/data/plugin/scalars/scalars?run=cpu%2Fcopy%2F256_gem&tag=eval_average_accuracy_model_for_curriculum_idx10\n",
      "sum_256_gem_cpu_copy_previous_accuracy\n",
      "[0.6120472345498864, 0.5833581671937527, 0.5698418300168117, 0.5970926216757468]\n"
     ]
    },
    {
     "data": {
      "image/png": "[encoded data removed]",
      "text/plain": [
       "<Figure size 432x288 with 1 Axes>"
      ]
     },
     "metadata": {},
     "output_type": "display_data"
    }
   ],
   "source": [
    "generate_future_accuracy_plots(task=\"cpu/copy\")"
   ]
  },
  {
   "cell_type": "code",
   "execution_count": 33,
   "metadata": {},
   "outputs": [
    {
     "name": "stdout",
     "output_type": "stream",
     "text": [
      "http://bigboss:9849/data/plugin/scalars/scalars?run=cpu%2Fcopy%2F128_gem_net2net_256&tag=eval_average_accuracy_model_for_curriculum_idx11\n",
      "http://bigboss:9849/data/plugin/scalars/scalars?run=cpu%2Fcopy%2F128_net2net_256&tag=eval_average_accuracy_model_for_curriculum_idx14\n",
      "http://bigboss:9849/data/plugin/scalars/scalars?run=cpu%2Fcopy%2F256&tag=eval_average_accuracy_model_for_curriculum_idx13\n",
      "http://bigboss:9849/data/plugin/scalars/scalars?run=cpu%2Fcopy%2F256_gem&tag=eval_average_accuracy_model_for_curriculum_idx10\n",
      "sum_256_gem_cpu_copy_previous_accuracy\n",
      "[0.6120472345498864, 0.5833581671937527, 0.5698418300168117, 0.5970926216757468]\n",
      "http://bigboss:9849/data/plugin/scalars/scalars?run=associative_recall%2F128_gem_net2net_256&tag=eval_average_accuracy_model_for_curriculum_idx6\n",
      "http://bigboss:9849/data/plugin/scalars/scalars?run=associative_recall%2F128_net2net_256&tag=eval_average_accuracy_model_for_curriculum_idx12\n",
      "http://bigboss:9849/data/plugin/scalars/scalars?run=associative_recall%2F256&tag=eval_average_accuracy_model_for_curriculum_idx15\n",
      "http://bigboss:9849/data/plugin/scalars/scalars?run=associative_recall%2F256_gem&tag=eval_average_accuracy_model_for_curriculum_idx9\n",
      "sum_256_gem_associative_recall_previous_accuracy\n",
      "[0.7394506098232628, 0.7458069789801549, 0.752755992836153, 0.7387811904109035]\n",
      "http://bigboss:9849/data/plugin/scalars/scalars?run=ssmnist%2Fgpu%2F128_gem_net2net_256&tag=eval_average_accuracy_model_for_curriculum_idx1\n",
      "http://bigboss:9849/data/plugin/scalars/scalars?run=ssmnist%2Fgpu%2F128_net2net_256&tag=eval_average_accuracy_model_for_curriculum_idx1\n",
      "http://bigboss:9849/data/plugin/scalars/scalars?run=ssmnist%2Fgpu%2F256&tag=eval_average_accuracy_model_for_curriculum_idx1\n",
      "http://bigboss:9849/data/plugin/scalars/scalars?run=ssmnist%2Fgpu%2F256_gem&tag=eval_average_accuracy_model_for_curriculum_idx6\n",
      "sum_256_gem_ssmnist_gpu_previous_accuracy\n",
      "[0.0]\n"
     ]
    },
    {
     "data": {
      "image/png": "[encoded data removed]",
      "text/plain": [
       "<Figure size 432x288 with 1 Axes>"
      ]
     },
     "metadata": {},
     "output_type": "display_data"
    },
    {
     "data": {
      "image/png": "[encoded data removed]",
      "text/plain": [
       "<Figure size 432x288 with 1 Axes>"
      ]
     },
     "metadata": {},
     "output_type": "display_data"
    },
    {
     "data": {
      "image/png": "[encoded data removed]",
      "text/plain": [
       "<Figure size 432x288 with 1 Axes>"
      ]
     },
     "metadata": {},
     "output_type": "display_data"
    }
   ],
   "source": [
    "for task in task_names:\n",
    "    generate_future_accuracy_plots(task)"
   ]
  },
  {
   "cell_type": "code",
   "execution_count": null,
   "metadata": {},
   "outputs": [],
   "source": []
  },
  {
   "cell_type": "code",
   "execution_count": 34,
   "metadata": {},
   "outputs": [],
   "source": [
    "tranfer_metric_name = \"eval_average_accuracy_model_for_curriculum_idx\"\n",
    "# tranfer_metric_name = \"eval_average_elementwise_accuracy_model_for_curriculum_idx\""
   ]
  },
  {
   "cell_type": "code",
   "execution_count": 35,
   "metadata": {},
   "outputs": [
    {
     "name": "stdout",
     "output_type": "stream",
     "text": [
      "http://bigboss:9849/data/plugin/scalars/scalars?run=cpu%2Fssmnist%2F128_net2net&tag=train_running_average_accuracy_model_idx_14\n",
      "http://bigboss:9849/data/plugin/scalars/scalars?run=cpu%2Fssmnist%2F128_net2net&tag=eval_average_elementwise_accuracy_model_for_curriculum_idx13\n",
      "http://bigboss:9849/data/plugin/scalars/scalars?run=cpu%2Fssmnist%2F128_net2net&tag=eval_average_elementwise_accuracy_model_for_curriculum_idx13\n"
     ]
    },
    {
     "data": {
      "text/plain": [
       "[0.8110466003417969,\n",
       " 0.8375425338745117,\n",
       " 0.834589421749115,\n",
       " 0.823148250579834,\n",
       " 0.7770938873291016,\n",
       " 0.7771453857421875,\n",
       " 0.7635061740875244]"
      ]
     },
     "execution_count": 35,
     "metadata": {},
     "output_type": "execute_result"
    }
   ],
   "source": [
    "# Vertically Stacked Histogram\n",
    "\n",
    "model_names = (\"128_net2net\", )\n",
    "task = \"cpu/ssmnist\"\n",
    "tranfer_metric_name = \"eval_average_elementwise_accuracy_model_for_curriculum_idx\"\n",
    "current_task_performance = list(map(lambda x: x.value, \n",
    "                                    get_current_performance_for_all_models_all_levels(task)['128_net2net']\n",
    "                                    .values()))[:7]\n",
    "previous_task_performance = list(map(lambda x: x, \n",
    "                                    get_previous_performance_for_all_models_all_levels(task)['128_net2net']\n",
    "                                    .values()))[:7]\n",
    "\n",
    "future_task_performance = list(map(lambda x: x, \n",
    "                                    get_future_performance_for_all_models_all_levels(task)['128_net2net']\n",
    "                                    .values()))[:7]\n",
    "current_task_performance\n",
    "# previous_task_performance = get_previous_performance_for_all_models_all_levels(task)\n",
    "# future_task_performance = get_future_performance_for_all_models_all_levels(task)"
   ]
  },
  {
   "cell_type": "code",
   "execution_count": 36,
   "metadata": {},
   "outputs": [
    {
     "name": "stdout",
     "output_type": "stream",
     "text": [
      "http://bigboss:9849/data/plugin/scalars/scalars?run=cpu%2Fssmnist%2F128_net2net&tag=eval_average_elementwise_accuracy_model_for_curriculum_idx13\n"
     ]
    },
    {
     "data": {
      "text/plain": [
       "{'1': 0.16287201849950683,\n",
       " '2': 0.20929451637408314,\n",
       " '3': 0.25737409852445126,\n",
       " '4': 0.2722535024086634,\n",
       " '5': 0.2958457799894469,\n",
       " '6': 0.30368282015507037,\n",
       " '7': 0.30886271844307583,\n",
       " '8': 0.3736045414751226,\n",
       " '9': 0.3873683989048004,\n",
       " '10': 0.40544388360447353,\n",
       " '11': 0.4750205874443054,\n",
       " '12': 0.51307213306427}"
      ]
     },
     "execution_count": 36,
     "metadata": {},
     "output_type": "execute_result"
    }
   ],
   "source": [
    "get_future_performance_for_all_models_all_levels(task)['128_net2net']"
   ]
  },
  {
   "cell_type": "code",
   "execution_count": 37,
   "metadata": {},
   "outputs": [
    {
     "name": "stdout",
     "output_type": "stream",
     "text": [
      "http://bigboss:9849/data/plugin/scalars/scalars?run=cpu%2Fssmnist%2F128_net2net&tag=train_running_average_accuracy_model_idx_14\n",
      "http://bigboss:9849/data/plugin/scalars/scalars?run=cpu%2Fssmnist%2F128_net2net&tag=eval_average_accuracy_model_for_curriculum_idx13\n",
      "http://bigboss:9849/data/plugin/scalars/scalars?run=cpu%2Fssmnist%2F128_net2net&tag=eval_average_accuracy_model_for_curriculum_idx13\n"
     ]
    },
    {
     "data": {
      "image/png": "[encoded data removed]",
      "text/plain": [
       "<Figure size 432x288 with 1 Axes>"
      ]
     },
     "metadata": {},
     "output_type": "display_data"
    }
   ],
   "source": [
    "model_names = (\"128_net2net\", )\n",
    "task = \"cpu/ssmnist\"\n",
    "tranfer_metric_name = \"eval_average_accuracy_model_for_curriculum_idx\"\n",
    "current_task_metric = \"train_running_average_accuracy_model_idx_\"\n",
    "current_task_performance = list(map(lambda x: x.value, \n",
    "                                    get_current_performance_for_all_models_all_levels(task)['128_net2net']\n",
    "                                    .values()))[:7]\n",
    "previous_task_performance = list(map(lambda x: x, \n",
    "                                    get_previous_performance_for_all_models_all_levels(task)['128_net2net']\n",
    "                                    .values()))[1:7]\n",
    "previous_task_performance.insert(0, 0.0)\n",
    "\n",
    "future_task_performance = list(map(lambda x: x, \n",
    "                                    get_future_performance_for_all_models_all_levels(task)['128_net2net']\n",
    "                                    .values()))[:7]\n",
    "current_task_performance\n",
    "# previous_task_performance = get_previous_performance_for_all_models_all_levels(task)\n",
    "# future_task_performance = get_future_performance_for_all_models_all_levels(task)\n",
    "import numpy as np\n",
    "import matplotlib.pyplot as plt\n",
    "import matplotlib.patches as mpatches\n",
    "\n",
    "\n",
    "N = 7\n",
    "ind = np.arange(N)    # the x locations for the groups\n",
    "width = 0.25       # the width of the bars: can also be len(x) sequence\n",
    "\n",
    "p1 = plt.bar(ind, previous_task_performance, width, hatch=r\"\\\\\\\\\")\n",
    "p2 = plt.bar(ind+width, current_task_performance, width, hatch=\"o\")\n",
    "p3 = plt.bar(ind+2*width, future_task_performance, width, hatch='+')\n",
    "\n",
    "a_val = 0.6\n",
    "# colors = ['#EA5739','#FEFFBE','#4BB05C']\n",
    "\n",
    "\n",
    "circ1 = mpatches.Patch( facecolor=\"blue\",alpha=a_val,hatch=r'\\\\\\\\',label='Previous Tasks')\n",
    "circ2= mpatches.Patch( facecolor=\"orange\",alpha=a_val,hatch='o',label='Current Task')\n",
    "circ3 = mpatches.Patch(facecolor=\"green\",alpha=a_val,hatch='+',label='Future Tasks')\n",
    "\n",
    "plt.ylabel('Accuracy')\n",
    "plt.xticks(ind+width, list(map(lambda x: str(x+1), ind)))\n",
    "plt.ylim(0, 1.5)\n",
    "plt.yticks(np.arange(0, 1.2, 0.2))\n",
    "plt.legend((circ1, circ2, circ3), ('Previous Tasks', 'Current Task', \"Future Tasks\"))\n",
    "plt.xlabel(\"Level\")\n",
    "plt.tight_layout()\n",
    "# plt.show()\n",
    "plt.savefig(\"1.png\")\n",
    "\n",
    "plt.tight_layout()"
   ]
  },
  {
   "cell_type": "code",
   "execution_count": 45,
   "metadata": {},
   "outputs": [
    {
     "name": "stdout",
     "output_type": "stream",
     "text": [
      "http://bigboss:9849/data/plugin/scalars/scalars?run=cpu%2Fssmnist%2F128_net2net&tag=train_running_element_average_accuracy_model_idx_14\n",
      "http://bigboss:9849/data/plugin/scalars/scalars?run=cpu%2Fssmnist%2F128_net2net&tag=eval_average_elementwise_accuracy_model_for_curriculum_idx13\n",
      "http://bigboss:9849/data/plugin/scalars/scalars?run=cpu%2Fssmnist%2F128_net2net&tag=eval_average_elementwise_accuracy_model_for_curriculum_idx13\n"
     ]
    },
    {
     "data": {
      "image/png": "[encoded data removed]",
      "text/plain": [
       "<Figure size 432x288 with 1 Axes>"
      ]
     },
     "metadata": {},
     "output_type": "display_data"
    }
   ],
   "source": [
    "model_names = (\"128_net2net\", )\n",
    "task = \"cpu/ssmnist\"\n",
    "tranfer_metric_name = \"eval_average_elementwise_accuracy_model_for_curriculum_idx\"\n",
    "current_task_metric = \"train_running_element_average_accuracy_model_idx_\"\n",
    "current_task_performance = list(map(lambda x: x.value, \n",
    "                                    get_current_performance_for_all_models_all_levels(task)['128_net2net']\n",
    "                                    .values()))[:7]\n",
    "previous_task_performance = list(map(lambda x: x, \n",
    "                                    get_previous_performance_for_all_models_all_levels(task)['128_net2net']\n",
    "                                    .values()))[1:7]\n",
    "\n",
    "previous_task_performance.insert(0, 0.0)\n",
    "\n",
    "future_task_performance = list(map(lambda x: x, \n",
    "                                    get_future_performance_for_all_models_all_levels(task)['128_net2net']\n",
    "                                    .values()))[:7]\n",
    "# previous_task_performance = get_previous_performance_for_all_models_all_levels(task)\n",
    "# future_task_performance = get_future_performance_for_all_models_all_levels(task)\n",
    "import numpy as np\n",
    "import matplotlib.pyplot as plt\n",
    "\n",
    "\n",
    "N = 7\n",
    "ind = np.arange(N)    # the x locations for the groups\n",
    "width = 0.25       # the width of the bars: can also be len(x) sequence\n",
    "\n",
    "# p1 = plt.bar(ind, previous_task_performance, width, hatch=r\"\\\\\\\\\")\n",
    "# p2 = plt.bar(ind+width, current_task_performance, width, hatch=\"o\")\n",
    "# p3 = plt.bar(ind+2*width, future_task_performance, width, hatch='+')\n",
    "\n",
    "p1 = plt.bar(ind, previous_task_performance, width, color=\"blue\")\n",
    "p2 = plt.bar(ind+width, current_task_performance, width, color = \"red\")\n",
    "p3 = plt.bar(ind+2*width, future_task_performance, width, color = \"green\")\n",
    "\n",
    "\n",
    "a_val = 1.0\n",
    "# colors = ['#EA5739','#FEFFBE','#4BB05C']\n",
    "\n",
    "\n",
    "circ1 = mpatches.Patch( facecolor=\"blue\",alpha=a_val,label='Previous Tasks')\n",
    "circ2= mpatches.Patch( facecolor=\"red\",alpha=a_val,label='Current Task')\n",
    "circ3 = mpatches.Patch(facecolor=\"green\",alpha=a_val,label='Future Tasks')\n",
    "\n",
    "plt.ylabel('Accuracy')\n",
    "plt.xticks(ind+width, list(map(lambda x: str(x+1), ind)))\n",
    "plt.ylim(0, 1.5)\n",
    "plt.yticks(np.arange(0, 1.2, 0.2))\n",
    "plt.legend((circ1, circ2, circ3), ('Previous Tasks', 'Current Task', \"Future Tasks\"))\n",
    "plt.xlabel(\"Task\")\n",
    "plt.tight_layout()\n",
    "\n",
    "# plt.show()\n",
    "# plt.savefig(\"2.png\")\n",
    "plt.savefig('seq.pdf', format='pdf', dpi=1000)"
   ]
  },
  {
   "cell_type": "code",
   "execution_count": null,
   "metadata": {},
   "outputs": [],
   "source": [
    "tranfer_metric_name = \"eval_average_accuracy_model_for_curriculum_idx\"\n",
    "current_task_performance = list(map(lambda x: x.value, \n",
    "                                    get_current_performance_for_all_models_all_levels(task)['128_net2net']\n",
    "                                    .values()))[:7]"
   ]
  },
  {
   "cell_type": "code",
   "execution_count": null,
   "metadata": {},
   "outputs": [],
   "source": [
    "current_task_performance"
   ]
  },
  {
   "cell_type": "code",
   "execution_count": null,
   "metadata": {},
   "outputs": [],
   "source": [
    "tranfer_metric_name = \"eval_average_elementwise_accuracy_model_for_curriculum_idx\"\n",
    "current_task_performance = list(map(lambda x: x.value, \n",
    "                                    get_current_performance_for_all_models_all_levels(task)['128_net2net']\n",
    "                                    .values()))[:7]"
   ]
  },
  {
   "cell_type": "code",
   "execution_count": null,
   "metadata": {},
   "outputs": [],
   "source": [
    "current_task_performance"
   ]
  },
  {
   "cell_type": "code",
   "execution_count": null,
   "metadata": {},
   "outputs": [],
   "source": []
  }
 ],
 "metadata": {
  "kernelspec": {
   "display_name": "Python 3",
   "language": "python",
   "name": "python3"
  },
  "language_info": {
   "codemirror_mode": {
    "name": "ipython",
    "version": 3
   },
   "file_extension": ".py",
   "mimetype": "text/x-python",
   "name": "python",
   "nbconvert_exporter": "python",
   "pygments_lexer": "ipython3",
   "version": "3.7.0"
  }
 },
 "nbformat": 4,
 "nbformat_minor": 2
}
