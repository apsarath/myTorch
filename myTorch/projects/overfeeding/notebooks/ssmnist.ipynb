{
 "cells": [
  {
   "cell_type": "code",
   "execution_count": 2,
   "metadata": {},
   "outputs": [],
   "source": [
    "import requests\n",
    "from addict import Dict\n",
    "from collections import namedtuple\n",
    "import matplotlib.pyplot as plt\n",
    "import numpy as np"
   ]
  },
  {
   "cell_type": "code",
   "execution_count": 3,
   "metadata": {},
   "outputs": [],
   "source": [
    "Result = namedtuple('Result', ['wall_time','step','value'])\n",
    "base_url=\"http://bigboss:9849/data/plugin/scalars/scalars\""
   ]
  },
  {
   "cell_type": "code",
   "execution_count": 17,
   "metadata": {},
   "outputs": [],
   "source": [
    "metric_names = (\"eval_average_accuracy_model_for_curriculum_idx\", \"train_running_average_accuracy_model_idx_\")\n",
    "levels = tuple(map(str, range(0, 20)))\n",
    "current_task_metric = \"train_running_average_accuracy_model_idx_\"\n",
    "tranfer_metric_name = \"eval_average_elementwise_accuracy_model_for_curriculum_idx\"\n",
    "model_to_name_dict = {}\n",
    "# model_to_name_dict[\"128\"] = \"128\"\n",
    "model_to_name_dict[\"256\"] = \"large\"\n",
    "model_to_name_dict[\"128_gem_net2net_256\"] = \"small+gem+net2net\"\n",
    "model_to_name_dict[\"256_gem\"] = \"large+gem\"\n",
    "model_to_name_dict[\"128_net2net_256\"] = \"small+net2net\"\n",
    "model_to_name_dict[\"128_gem_net2net\"] = \"small+gem+net2net\"\n",
    "model_to_name_dict[\"128_net2net\"] = \"small+net2net\"\n",
    "break_index = {\"128\": 8,\n",
    "               \"128_gem\": 6}\n",
    "\n",
    "# model_to_label_map = {\n",
    "#     \"128\": \"Lstm-128\",\n",
    "#     \"128_gem\": \"Lstm-128-Gem\",\n",
    "#     \"128_net2net_256\": \"Lstm-128-Net2Net\", \n",
    "#     \"128_gem_net2net_256\": \"Lstm-128-Gem-Net2Net\", \n",
    "#     \"256\": \"Lstm-256\", \n",
    "#     \"256_gem\": \"Lstm-256-Gem\"\n",
    "# }\n",
    "\n",
    "model_to_label_map = {\n",
    "    \"128\": \"small-Lstm\",\n",
    "    \"128_gem\": \"small-Lstm-Gem\",\n",
    "    \"128_net2net_256\": \"small-Lstm-Net2Net\", \n",
    "    \"128_net2net\": \"small-Lstm-Net2Net\", \n",
    "    \"128_gem_net2net_256\": \"small-Lstm-Gem-Net2Net\", \n",
    "    \"128_gem_net2net\": \"small-Lstm-Gem-Net2Net\", \n",
    "    \"256\": \"large-Lstm\", \n",
    "    \"256_gem\": \"large-Lstm-Gem\"\n",
    "}"
   ]
  },
  {
   "cell_type": "code",
   "execution_count": 18,
   "metadata": {},
   "outputs": [],
   "source": [
    "model_names = (\"128_net2net\", \"128_gem_net2net\", \"256\", \"256_gem\")\n",
    "metric = current_task_metric\n",
    "level = 0\n",
    "color_map = {\n",
    "    '128_gem_net2net_256': 'tab:blue',\n",
    "    '128_gem_net2net': 'tab:blue',\n",
    "    '128_net2net_256': 'tab:orange',\n",
    "    '128_net2net': 'tab:orange',\n",
    "    '256': 'tab:green',\n",
    "    '256_gem': 'tab:red',\n",
    "    '128': 'tab:purple', \n",
    "    '128_gem': 'tab:brown'\n",
    "}"
   ]
  },
  {
   "cell_type": "code",
   "execution_count": 19,
   "metadata": {},
   "outputs": [],
   "source": [
    "def get_result_for_model(task, model, metric, level):\n",
    "    params = Dict()\n",
    "    if task:\n",
    "        params.run = \"{}/{}\".format(task, model)\n",
    "    else:\n",
    "        params.run = model\n",
    "    params.tag = \"{}{}\".format(metric, level)\n",
    "    r = requests.get(base_url, params)\n",
    "    if(r.status_code!=200):\n",
    "        print(r.url)\n",
    "#         print(\"Error\")\n",
    "        return None\n",
    "    result = list(map(lambda x: Result(*x), r.json()))\n",
    "    return result\n",
    "\n",
    "def get_current_task_accuracy(task, model, level):\n",
    "    result = get_result_for_model(task, model, metric=current_task_metric, level=level)\n",
    "    if result:\n",
    "        return result[-1]\n",
    "    else:\n",
    "        None\n",
    "        \n",
    "def get_current_performance_for_all_models_all_levels(task):\n",
    "    current_task_performance = {}\n",
    "    for m in model_names:\n",
    "        current_task_performance[m] = {}\n",
    "        for l in levels:\n",
    "            res = get_current_task_accuracy(task, m, l)\n",
    "            if res:\n",
    "                current_task_performance[m][l] = res\n",
    "            else:\n",
    "                break\n",
    "    return current_task_performance\n"
   ]
  },
  {
   "cell_type": "code",
   "execution_count": 31,
   "metadata": {},
   "outputs": [
    {
     "name": "stdout",
     "output_type": "stream",
     "text": [
      "http://bigboss:9849/data/plugin/scalars/scalars?run=cpu%2Fssmnist%2F128_net2net&tag=train_running_average_accuracy_model_idx_14\n",
      "http://bigboss:9849/data/plugin/scalars/scalars?run=cpu%2Fssmnist%2F128_gem_net2net&tag=train_running_average_accuracy_model_idx_7\n",
      "http://bigboss:9849/data/plugin/scalars/scalars?run=cpu%2Fssmnist%2F256&tag=train_running_average_accuracy_model_idx_13\n",
      "http://bigboss:9849/data/plugin/scalars/scalars?run=cpu%2Fssmnist%2F256_gem&tag=train_running_average_accuracy_model_idx_5\n"
     ]
    },
    {
     "data": {
      "image/png": "[encoded data removed]",
      "text/plain": [
       "<Figure size 432x288 with 1 Axes>"
      ]
     },
     "metadata": {},
     "output_type": "display_data"
    },
    {
     "data": {
      "text/plain": [
       "<Figure size 432x288 with 0 Axes>"
      ]
     },
     "metadata": {},
     "output_type": "display_data"
    }
   ],
   "source": [
    "def generate_current_accuracy_plots(task):\n",
    "    \n",
    "    current_task_performance = get_current_performance_for_all_models_all_levels(task)\n",
    "    \n",
    "    model_names = (\"128_gem_net2net\", \"256\", \"256_gem\")\n",
    "    \n",
    "    for m in model_names:\n",
    "        y = list(map(lambda key_value: key_value[1].value, current_task_performance[m].items()))\n",
    "        x = list(range(1, len(y)+1))\n",
    "        plt.plot(x, y, label=model_to_label_map[m], color=color_map[m])\n",
    "        plt.xlabel(\"Number of tasks\")\n",
    "        plt.ylabel(\"Accuracy on the current task\")\n",
    "    \n",
    "    plt.plot([6, 6], [0.6, 0.6845], '-.', color = 'tab:blue', lw=0.8, label=\"Expanding small-Lstm-Gem\")\n",
    "#     plt.plot([9, 9], [0.72, 0.7555], '-.', color = 'tab:orange', lw=0.8, label=\"Expanding Lstm-128\")\n",
    "    \n",
    "    plt.legend(loc='center left', bbox_to_anchor=(0.48, 0.2))\n",
    "#     plt.legend(loc='center left')\n",
    "    file_name = \"{}_{}\".format(task, \"current_accuracy\")\n",
    "    plt.tight_layout()\n",
    "#     plt.savefig(\"ssmnist_current_acc\")\n",
    "    plt.savefig('ssmnist_current_acc.pdf', format='pdf', dpi=1000)\n",
    "    plt.show()\n",
    "    plt.clf()\n",
    "\n",
    "generate_current_accuracy_plots(\"cpu/ssmnist\")\n",
    "# generate_current_accuracy_plots(\"cpu/ssmnist\")"
   ]
  },
  {
   "cell_type": "code",
   "execution_count": 21,
   "metadata": {},
   "outputs": [],
   "source": [
    "# def generate_current_accuracy_plots(task):\n",
    "    \n",
    "#     current_task_performance = get_current_performance_for_all_models_all_levels(task)\n",
    "    \n",
    "    \n",
    "#     for m in model_names:\n",
    "#         y = list(map(lambda key_value: key_value[1].value, current_task_performance[m].items()))\n",
    "#         x = list(range(1, len(y)+1))\n",
    "#         plt.plot(x, y, label=m, color=color_map[m])\n",
    "#         plt.xlabel(\"Number of tasks\")\n",
    "#         plt.ylabel(\"Accuracy on the current task\")\n",
    "    \n",
    "#     plt.plot([6, 6], [0.6, 0.6845], '-.', color = 'tab:blue', lw=0.8, label=\"Expanding Lstm-128-Gem\")\n",
    "#     plt.plot([9, 9], [0.72, 0.7555], '-.', color = 'tab:orange', lw=0.8, label=\"Expanding Lstm-128\")\n",
    "    \n",
    "#     plt.legend(loc='center left', bbox_to_anchor=(0.48, 0.2))\n",
    "# #     plt.legend(loc='center left')\n",
    "#     file_name = \"{}_{}\".format(task, \"current_accuracy\")\n",
    "#     plt.tight_layout()\n",
    "#     plt.savefig(\"ssmnist_current_acc\")\n",
    "#     plt.show()\n",
    "#     plt.clf()\n",
    "\n",
    "# generate_current_accuracy_plots(\"cpu/ssmnist\")"
   ]
  },
  {
   "cell_type": "code",
   "execution_count": 29,
   "metadata": {},
   "outputs": [
    {
     "name": "stdout",
     "output_type": "stream",
     "text": [
      "http://bigboss:9849/data/plugin/scalars/scalars?run=cpu%2Fssmnist%2F128_net2net&tag=eval_average_elementwise_accuracy_model_for_curriculum_idx13\n",
      "http://bigboss:9849/data/plugin/scalars/scalars?run=cpu%2Fssmnist%2F128_gem_net2net&tag=eval_average_elementwise_accuracy_model_for_curriculum_idx7\n",
      "http://bigboss:9849/data/plugin/scalars/scalars?run=cpu%2Fssmnist%2F256&tag=eval_average_elementwise_accuracy_model_for_curriculum_idx13\n",
      "http://bigboss:9849/data/plugin/scalars/scalars?run=cpu%2Fssmnist%2F256_gem&tag=eval_average_elementwise_accuracy_model_for_curriculum_idx5\n",
      "[0.3960000276565552, 0.44158346951007843, 0.48711106181144714, 0.5007375776767731, 0.48229663968086245, 0.5049229711294174, 0.5187002973897117, 0.5496714487671852, 0.5585244413879182, 0.5782040059566498, 0.5734055096452887, 0.5665731504559517]\n",
      "128_net2net\n",
      "0.5131442167556532\n",
      "128_gem_net2net\n",
      "0.830077304939429\n",
      "256_gem\n",
      "0.8292051963508129\n",
      "sum_256_gem_cpu_ssmnist_previous_accuracy\n"
     ]
    },
    {
     "data": {
      "image/png": "[encoded data removed]",
      "text/plain": [
       "<Figure size 432x288 with 1 Axes>"
      ]
     },
     "metadata": {},
     "output_type": "display_data"
    }
   ],
   "source": [
    "levels = tuple(map(str, range(1, 21)))\n",
    "metric = tranfer_metric_name\n",
    "def get_previous_task_accuracy(task, model, level):\n",
    "    result = get_result_for_model(task, model, metric=tranfer_metric_name, level=level)\n",
    "    if result:\n",
    "        return result[:level]\n",
    "    else:\n",
    "        None\n",
    "\n",
    "def get_previous_performance_for_all_models_all_levels(task):\n",
    "    previous_task_performance = {}\n",
    "    for m in model_names:\n",
    "        previous_task_performance[m] = {}\n",
    "        for l in levels:\n",
    "            res = get_previous_task_accuracy(task, m, int(l))\n",
    "            if res:\n",
    "                average_res = np.mean(np.asarray(list(map(lambda x: x.value, res))))\n",
    "                previous_task_performance[m][l] = average_res\n",
    "            else:\n",
    "                break\n",
    "    return previous_task_performance\n",
    "\n",
    "def generate_previous_accuracy_plots(task):\n",
    "    previous_task_performance = get_previous_performance_for_all_models_all_levels(task)\n",
    "    y = []\n",
    "    x = []\n",
    "    fig, ax = plt.subplots(1, 1)\n",
    "    curr_ax = ax\n",
    "    use_mean = True\n",
    "    if(use_mean):\n",
    "        f = np.mean\n",
    "    else:\n",
    "        f = np.sum\n",
    "    \n",
    "    print(list(map(lambda key_value: key_value[1], previous_task_performance[\"128_net2net\"].items())))\n",
    "    x = [\"128\", \"128_gem\"]\n",
    "    y = [f(np.asarray(list(map(lambda key_value: key_value[1], previous_task_performance[\"128_net2net\"].items()))[:8])),\n",
    "        f(np.asarray(list(map(lambda key_value: key_value[1], previous_task_performance[\"128_gem_net2net\"].items()))[:6]))]\n",
    "    x = []\n",
    "    y = []\n",
    "    model_names = (\"128_net2net\", \"128_gem_net2net\", \"256_gem\")\n",
    "    for m in model_names:\n",
    "        \n",
    "        if(previous_task_performance[m]):\n",
    "            y.append(f(np.asarray(list(map(lambda key_value: key_value[1], previous_task_performance[m].items())))))\n",
    "            x.append(m)\n",
    "    \n",
    "    if(use_mean):\n",
    "        plt.ylim(0, 1)\n",
    "    else:\n",
    "        plt.ylim(0, 15)\n",
    "        \n",
    "    for idx, (_x, _y) in enumerate(zip(x, y)):\n",
    "        print(_x)\n",
    "        print(_y)\n",
    "        curr_ax.bar(idx, _y, label=model_to_label_map[_x], align=\"center\", color = color_map[_x])\n",
    "    \n",
    "    plt.legend(loc='lower right', bbox_to_anchor=(0.5, 0.7))\n",
    "    file_name = \"sum_{}_{}_{}\".format(m, \"_\".join(task.split(\"/\")), \"previous_accuracy\")\n",
    "    plt.tick_params(\n",
    "        axis='x',          # changes apply to the x-axis\n",
    "        which='both',      # both major and minor ticks are affected\n",
    "        bottom=False,      # ticks along the bottom edge are off\n",
    "        top=False,         # ticks along the top edge are off\n",
    "        labelbottom=False\n",
    "    )\n",
    "    if(use_mean):\n",
    "        plt.ylim(0.0, 1.2)\n",
    "    else:\n",
    "        plt.ylim(0.0, 10)\n",
    "    \n",
    "    if(use_mean):\n",
    "        plt.yticks(np.arange(0.0, 1.1, 0.1))\n",
    "    else:\n",
    "        plt.yticks(np.arange(0.0, 10.0, 0.5))\n",
    "    plt.xlabel(\"Models\")\n",
    "    plt.ylabel(\"Accuracy on the previous tasks\")\n",
    "    plt.tight_layout()\n",
    "    \n",
    "    print(file_name)\n",
    "    plt.savefig('prev_ssmnist.pdf', format='pdf', dpi=1000)\n",
    "#     plt.savefig(\"prev_ssmnist\")\n",
    "#     plt.clf()\n",
    "generate_previous_accuracy_plots(task=\"cpu/ssmnist\")\n"
   ]
  },
  {
   "cell_type": "code",
   "execution_count": 30,
   "metadata": {},
   "outputs": [
    {
     "name": "stdout",
     "output_type": "stream",
     "text": [
      "http://bigboss:9849/data/plugin/scalars/scalars?run=cpu%2Fssmnist%2F128_net2net&tag=eval_average_elementwise_accuracy_model_for_curriculum_idx13\n",
      "http://bigboss:9849/data/plugin/scalars/scalars?run=cpu%2Fssmnist%2F128_gem_net2net&tag=eval_average_elementwise_accuracy_model_for_curriculum_idx7\n",
      "http://bigboss:9849/data/plugin/scalars/scalars?run=cpu%2Fssmnist%2F256&tag=eval_average_elementwise_accuracy_model_for_curriculum_idx13\n",
      "http://bigboss:9849/data/plugin/scalars/scalars?run=cpu%2Fssmnist%2F256_gem&tag=eval_average_elementwise_accuracy_model_for_curriculum_idx5\n",
      "sum_256_cpu_ssmnist_previous_accuracy\n",
      "[0.22588423002089653, 0.2652029717816322, 0.37016560623306793]\n"
     ]
    },
    {
     "data": {
      "image/png": "[encoded data removed]",
      "text/plain": [
       "<Figure size 432x288 with 1 Axes>"
      ]
     },
     "metadata": {},
     "output_type": "display_data"
    }
   ],
   "source": [
    "levels = tuple(map(str, range(0, 20)))\n",
    "\n",
    "def get_future_task_accuracy(task, model, level):\n",
    "    result = get_result_for_model(task, model, metric=tranfer_metric_name, level=level)\n",
    "    if result:\n",
    "        return result[level+1:20]\n",
    "    else:\n",
    "        None\n",
    "\n",
    "def get_future_performance_for_all_models_all_levels(task):\n",
    "    future_task_performance = {}\n",
    "    for m in model_names:\n",
    "        future_task_performance[m] = {}\n",
    "        for l in levels:\n",
    "            res = get_future_task_accuracy(task, m, int(l))\n",
    "            if res:\n",
    "                average_res = np.mean(np.asarray(list(map(lambda x: x.value, res))))\n",
    "                future_task_performance[m][l] = average_res\n",
    "            else:\n",
    "                break\n",
    "    return future_task_performance\n",
    "\n",
    "def generate_future_accuracy_plots(task):\n",
    "    future_task_performance = get_future_performance_for_all_models_all_levels(task)\n",
    "    y = []\n",
    "    x = []\n",
    "    fig, ax = plt.subplots(1, 1)\n",
    "    curr_ax = ax\n",
    "    use_mean = True\n",
    "    if(use_mean):\n",
    "        f = np.mean\n",
    "    else:\n",
    "        f = np.sum\n",
    "    x = [\"128\", \"128_gem\"]\n",
    "    y = [f(np.asarray(list(map(lambda key_value: key_value[1], future_task_performance[\"128_net2net\"].items()))[:8])),\n",
    "        f(np.asarray(list(map(lambda key_value: key_value[1], future_task_performance[\"128_gem_net2net\"].items()))[:6]))]\n",
    "    x = []\n",
    "    y = []\n",
    "    model_names = (\"256_gem\", \"128_gem_net2net\", \"256\", )\n",
    "    \n",
    "    for m in model_names:\n",
    "        \n",
    "        if(future_task_performance[m]):\n",
    "            y.append(f(np.asarray(list(map(lambda key_value: key_value[1], future_task_performance[m].items())))))\n",
    "            x.append(m)\n",
    "    if(use_mean):\n",
    "        plt.ylim(0.5, 0.7)\n",
    "    else:\n",
    "        plt.ylim(0, 15)\n",
    "        \n",
    "    for idx, (_x, _y) in enumerate(zip(x, y)):\n",
    "        curr_ax.bar(idx, _y, label=model_to_label_map[_x], align=\"center\", color = color_map[_x])\n",
    "    \n",
    "    plt.legend(loc='lower right', bbox_to_anchor=(0.5, 0.55))\n",
    "    file_name = \"sum_{}_{}_{}\".format(m, \"_\".join(task.split(\"/\")), \"previous_accuracy\")\n",
    "    plt.tick_params(\n",
    "        axis='x',          # changes apply to the x-axis\n",
    "        which='both',      # both major and minor ticks are affected\n",
    "        bottom=False,      # ticks along the bottom edge are off\n",
    "        top=False,         # ticks along the top edge are off\n",
    "        labelbottom=False\n",
    "    )\n",
    "    plt.ylim(0.0, 0.6)\n",
    "    \n",
    "    plt.yticks(np.arange(0.0, 0.5, 0.05))\n",
    "    plt.xlabel(\"Models\")\n",
    "    plt.ylabel(\"Accuracy on the future tasks\")\n",
    "    plt.tight_layout()\n",
    "    \n",
    "    print(file_name)\n",
    "#     plt.savefig(\"next_ssmnist_alt\")\n",
    "    plt.savefig('next_ssmnist.pdf', format='pdf', dpi=1000)\n",
    "    print(y)\n",
    "#     plt.clf()\n",
    "generate_future_accuracy_plots(task=\"cpu/ssmnist\")"
   ]
  },
  {
   "cell_type": "code",
   "execution_count": 11,
   "metadata": {},
   "outputs": [
    {
     "ename": "NameError",
     "evalue": "name 'task' is not defined",
     "output_type": "error",
     "traceback": [
      "\u001b[0;31m---------------------------------------------------------------------------\u001b[0m",
      "\u001b[0;31mNameError\u001b[0m                                 Traceback (most recent call last)",
      "\u001b[0;32m<ipython-input-11-567ee4d5ee2d>\u001b[0m in \u001b[0;36m<module>\u001b[0;34m()\u001b[0m\n\u001b[0;32m----> 1\u001b[0;31m \u001b[0mfuture_task_performance\u001b[0m \u001b[0;34m=\u001b[0m \u001b[0mget_future_performance_for_all_models_all_levels\u001b[0m\u001b[0;34m(\u001b[0m\u001b[0mtask\u001b[0m\u001b[0;34m)\u001b[0m\u001b[0;34m\u001b[0m\u001b[0m\n\u001b[0m\u001b[1;32m      2\u001b[0m \u001b[0mfuture_task_performance\u001b[0m\u001b[0;34m\u001b[0m\u001b[0m\n",
      "\u001b[0;31mNameError\u001b[0m: name 'task' is not defined"
     ]
    }
   ],
   "source": [
    "future_task_performance = get_future_performance_for_all_models_all_levels(task)\n",
    "future_task_performance"
   ]
  },
  {
   "cell_type": "code",
   "execution_count": null,
   "metadata": {},
   "outputs": [],
   "source": [
    "task = \"cpu/ssmnist\"\n",
    "m = \"256_gem\"\n",
    "for l in levels:\n",
    "    res = get_previous_task_accuracy(task, m, int(l))\n",
    "    if res:\n",
    "        average_res = np.mean(np.asarray(list(map(lambda x: x.value, res))))\n",
    "        print(average_res)\n",
    "        previous_task_performance[m][l] = average_res\n",
    "    else:\n",
    "        break"
   ]
  },
  {
   "cell_type": "raw",
   "metadata": {},
   "source": [
    "res"
   ]
  },
  {
   "cell_type": "code",
   "execution_count": null,
   "metadata": {},
   "outputs": [],
   "source": []
  }
 ],
 "metadata": {
  "kernelspec": {
   "display_name": "Python 3",
   "language": "python",
   "name": "python3"
  },
  "language_info": {
   "codemirror_mode": {
    "name": "ipython",
    "version": 3
   },
   "file_extension": ".py",
   "mimetype": "text/x-python",
   "name": "python",
   "nbconvert_exporter": "python",
   "pygments_lexer": "ipython3",
   "version": "3.7.0"
  }
 },
 "nbformat": 4,
 "nbformat_minor": 2
}
